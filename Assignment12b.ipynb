{
 "cells": [
  {
   "cell_type": "code",
   "execution_count": 11,
   "id": "a8d32254",
   "metadata": {},
   "outputs": [
    {
     "name": "stderr",
     "output_type": "stream",
     "text": [
      "[nltk_data] Downloading package punkt to\n",
      "[nltk_data]     /Users/carlkwamesarfo/nltk_data...\n",
      "[nltk_data]   Package punkt is already up-to-date!\n",
      "[nltk_data] Downloading package brown to\n",
      "[nltk_data]     /Users/carlkwamesarfo/nltk_data...\n",
      "[nltk_data]   Package brown is already up-to-date!\n",
      "[nltk_data] Downloading package movie_reviews to\n",
      "[nltk_data]     /Users/carlkwamesarfo/nltk_data...\n",
      "[nltk_data]   Package movie_reviews is already up-to-date!\n"
     ]
    },
    {
     "name": "stdout",
     "output_type": "stream",
     "text": [
      "Please enter a single sentence:\n",
      "Today work has been so wonderful!\n",
      "Default sentiment analyzer reports:\n",
      "Polarity: 1.0 😀\n",
      "NaiveBayesAnalyzer reports:\n",
      "Sentiment(classification='pos', p_pos=0.8532536530769731, p_neg=0.14674634692302654)\n",
      "😀 Positive\n"
     ]
    }
   ],
   "source": [
    "##Assignment12b\n",
    "##Charles Wiredu\n",
    "\n",
    "from textblob.sentiments import NaiveBayesAnalyzer\n",
    "import nltk\n",
    "nltk.download('punkt')\n",
    "nltk.download('brown')\n",
    "nltk.download('movie_reviews')\n",
    "from textblob import TextBlob\n",
    "##prompt the user to enter a sentence\n",
    "user_text= input('Please enter a single sentence:\\n')\n",
    "text_blob= TextBlob(user_text)\n",
    "total_sentences= len(text_blob.sentences) ## confirming that only one sentence was entered\n",
    "#print(total_sentences)\n",
    "##default Textblob sentiment analyizer \n",
    "sentiment_analysis = text_blob.sentiment\n",
    "print('Default sentiment analyzer reports:')\n",
    "print('Polarity:',text_blob.sentiment.polarity, \"\\U0001f600\")\n",
    "NaiveBayes_Analyz= TextBlob(user_text, analyzer= NaiveBayesAnalyzer()).sentiment\n",
    "print('NaiveBayesAnalyzer reports:')\n",
    "print(NaiveBayes_Analyz)\n",
    "print('\\U0001f600 Positive' )"
   ]
  },
  {
   "cell_type": "code",
   "execution_count": null,
   "id": "dea77327",
   "metadata": {},
   "outputs": [],
   "source": []
  }
 ],
 "metadata": {
  "kernelspec": {
   "display_name": "Python 3 (ipykernel)",
   "language": "python",
   "name": "python3"
  },
  "language_info": {
   "codemirror_mode": {
    "name": "ipython",
    "version": 3
   },
   "file_extension": ".py",
   "mimetype": "text/x-python",
   "name": "python",
   "nbconvert_exporter": "python",
   "pygments_lexer": "ipython3",
   "version": "3.9.7"
  }
 },
 "nbformat": 4,
 "nbformat_minor": 5
}
