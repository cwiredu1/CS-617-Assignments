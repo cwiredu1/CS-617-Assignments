{
 "cells": [
  {
   "cell_type": "code",
   "execution_count": 1,
   "id": "37939889",
   "metadata": {},
   "outputs": [
    {
     "name": "stdout",
     "output_type": "stream",
     "text": [
      "Please enter a sentence : Coding in python is the best\n",
      "\n",
      "=============================Each Letter in list================================\n",
      "Every other letter in the list is: ['C', 'o', 'd', 'i', 'n', 'g', ' ', 'i', 'n', ' ', 'p', 'y', 't', 'h', 'o', 'n', ' ', 'i', 's', ' ', 't', 'h', 'e', ' ', 'b', 'e', 's', 't']\n",
      "\n",
      "=============================Count of letter e==================================\n",
      "You entered 2 letters of e\n",
      "\n",
      "===============================Tuple print======================================\n",
      "The tuple is : ('C', 'o', 'd', 'i', 'n', 'g', ' ', 'i', 'n', ' ', 'p', 'y', 't', 'h', 'o', 'n', ' ', 'i', 's', ' ', 't', 'h', 'e', ' ', 'b', 'e', 's', 't')\n",
      "\n",
      "========================First five letters of tuple=============================\n",
      "The first five letters of the tuple is : ('C', 'o', 'd', 'i', 'n')\n",
      "\n",
      "========================Variable Types==========================================\n",
      "user_string is <class 'str'>\n",
      "letter_list is <class 'list'>\n",
      "letter_tuple is <class 'tuple'>\n"
     ]
    }
   ],
   "source": [
    "###Assignment6a.ipynb\n",
    "###charles wiredu\n",
    "\n",
    "user_string= input('Please enter a sentence : ')\n",
    "\n",
    "print('')\n",
    "\n",
    "print('=============================Each Letter in list================================')\n",
    "letter_list=list(user_string)\n",
    "print('Every other letter in the list is:',letter_list)\n",
    "\n",
    "print('')\n",
    "\n",
    "print('=============================Count of letter e==================================')\n",
    "print('You entered',letter_list.count('e'), 'letters of e')\n",
    "letter_tuple=tuple(letter_list)\n",
    "\n",
    "print('')\n",
    "\n",
    "print('===============================Tuple print======================================')\n",
    "print('The tuple is :', letter_tuple)\n",
    "\n",
    "print('')\n",
    "\n",
    "print('========================First five letters of tuple=============================')\n",
    "print( 'The first five letters of the tuple is :', letter_tuple[0:5])\n",
    "\n",
    "print('')\n",
    "\n",
    "print('========================Variable Types==========================================')\n",
    "print('user_string is',type(user_string))\n",
    "print('letter_list is',type(letter_list))\n",
    "print('letter_tuple is',type(letter_tuple))\n"
   ]
  },
  {
   "cell_type": "code",
   "execution_count": null,
   "id": "2c219630",
   "metadata": {},
   "outputs": [],
   "source": []
  }
 ],
 "metadata": {
  "kernelspec": {
   "display_name": "Python 3 (ipykernel)",
   "language": "python",
   "name": "python3"
  },
  "language_info": {
   "codemirror_mode": {
    "name": "ipython",
    "version": 3
   },
   "file_extension": ".py",
   "mimetype": "text/x-python",
   "name": "python",
   "nbconvert_exporter": "python",
   "pygments_lexer": "ipython3",
   "version": "3.9.7"
  }
 },
 "nbformat": 4,
 "nbformat_minor": 5
}
