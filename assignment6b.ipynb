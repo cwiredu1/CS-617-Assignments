{
 "cells": [
  {
   "cell_type": "code",
   "execution_count": 3,
   "id": "43313f1c-8a14-404f-a43d-5ccb5190f6ff",
   "metadata": {},
   "outputs": [
    {
     "name": "stdout",
     "output_type": "stream",
     "text": [
      "Please enter a word: above\n",
      "Please enter a word: admit\n",
      "Please enter a word: flag\n",
      "Please enter a word: module\n",
      "Please enter a word: college\n",
      "You entered these words:  ['above', 'admit', 'flag', 'module', 'college']\n",
      "There is duplication in the list\n",
      "['above', 'admit', 'flag', 'module', 'college', 'admit']\n",
      "sorted these words are : ['above', 'admit', 'admit', 'college', 'flag', 'module']\n"
     ]
    }
   ],
   "source": [
    "####assignment6b.ipynb\n",
    "###charles wiredu\n",
    "\n",
    "user_word=[]\n",
    "how_many= 5\n",
    "for i in range(how_many):\n",
    "    response=input('Please enter a word: ')\n",
    "    user_word+= [response]\n",
    "    \n",
    "print('You entered these words: ',user_word)\n",
    "\n",
    "\n",
    "if 'admit' in user_word:\n",
    "    print('There is duplication in the list')\n",
    "    user_word.append('admit')\n",
    "    print(user_word)\n",
    "    sorted_list= sorted(user_word)\n",
    "    print('sorted these words are :',sorted_list)\n",
    "    \n",
    "    \n",
    "else: \n",
    "    print('There is no duplication in the list')\n",
    "    \n",
    "        \n",
    "    "
   ]
  },
  {
   "cell_type": "code",
   "execution_count": null,
   "id": "29396539-851f-4683-b288-6678fd2e86b6",
   "metadata": {},
   "outputs": [],
   "source": []
  },
  {
   "cell_type": "code",
   "execution_count": null,
   "id": "9252fb6a-2206-4b3f-aef5-4f0bf2eb7f2c",
   "metadata": {},
   "outputs": [],
   "source": []
  }
 ],
 "metadata": {
  "kernelspec": {
   "display_name": "Python 3 (ipykernel)",
   "language": "python",
   "name": "python3"
  },
  "language_info": {
   "codemirror_mode": {
    "name": "ipython",
    "version": 3
   },
   "file_extension": ".py",
   "mimetype": "text/x-python",
   "name": "python",
   "nbconvert_exporter": "python",
   "pygments_lexer": "ipython3",
   "version": "3.9.7"
  }
 },
 "nbformat": 4,
 "nbformat_minor": 5
}
