{
 "cells": [
  {
   "cell_type": "code",
   "execution_count": 9,
   "id": "c839e345",
   "metadata": {},
   "outputs": [
    {
     "name": "stdout",
     "output_type": "stream",
     "text": [
      "Connection to Twitter successfully\n",
      "ID                 19701628\n",
      "Name               BBC\n",
      "Twitter Handle     BBC\n",
      "Description        Our mission is to enrich your life and to inform, educate and entertain you, wherever you are.\n",
      "Following          271\n",
      "Followers          2004518\n",
      "Tweets             36796\n"
     ]
    }
   ],
   "source": [
    "##Assignment 14a\n",
    "##CharlesWiredu.ipynb\n",
    "\n",
    "import tweepy\n",
    "import geopy\n",
    "import keys# import the keys.py file , to bring the brear token\n",
    "\n",
    "###Authentication with Twitter\n",
    "client=tweepy.Client(bearer_token= keys.bearer_token)\n",
    "print('Connection to Twitter successfully')\n",
    "\n",
    "this_user= 'bbc'# a string holding the twitter handle for whom we want to search\n",
    "##get information about the account\n",
    "acct= client.get_user(username= this_user, user_fields=['description','public_metrics'])\n",
    "\n",
    "print(f'ID                 {acct.data.id}')\n",
    "print(f'Name               {acct.data.name}')\n",
    "print(f'Twitter Handle     {acct.data.username}') # this is the twitter handle\n",
    "print(f'Description        {acct.data.description}')\n",
    "print(f\"Following          {acct.data.public_metrics['following_count']}\")\n",
    "print(f\"Followers          {acct.data.public_metrics['followers_count']}\")\n",
    "print(f\"Tweets             {acct.data.public_metrics['tweet_count']}\")\n",
    "\n"
   ]
  },
  {
   "cell_type": "code",
   "execution_count": null,
   "id": "fba0cd12",
   "metadata": {},
   "outputs": [],
   "source": []
  }
 ],
 "metadata": {
  "kernelspec": {
   "display_name": "Python 3 (ipykernel)",
   "language": "python",
   "name": "python3"
  },
  "language_info": {
   "codemirror_mode": {
    "name": "ipython",
    "version": 3
   },
   "file_extension": ".py",
   "mimetype": "text/x-python",
   "name": "python",
   "nbconvert_exporter": "python",
   "pygments_lexer": "ipython3",
   "version": "3.9.7"
  }
 },
 "nbformat": 4,
 "nbformat_minor": 5
}
